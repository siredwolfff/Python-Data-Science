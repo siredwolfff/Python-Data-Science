{
 "cells": [
  {
   "cell_type": "code",
   "execution_count": 1,
   "metadata": {},
   "outputs": [],
   "source": [
    "from dputils.scrape import extract_many, get_webpage_data\n"
   ]
  },
  {
   "cell_type": "code",
   "execution_count": 2,
   "metadata": {},
   "outputs": [],
   "source": [
    "url = \"https://www.flipkart.com/search?q=mobiles&otracker=search&otracker1=search&marketplace=FLIPKART&as-show=on&as=off\"\n",
    "soup = get_webpage_data(url)"
   ]
  },
  {
   "cell_type": "code",
   "execution_count": 3,
   "metadata": {},
   "outputs": [],
   "source": [
    "target = {\n",
    "'tag': 'div',\n",
    "'attrs':{'class':'_1YokD2 _3Mn1Gg'}\n",
    "}\n",
    "items = {\n",
    "    'tag': 'div',\n",
    "    'attrs':{'class':'_1AtVbE col-12-12'}\n",
    "}\n",
    "title = {\n",
    "    'tag': 'div',\n",
    "    'attrs':{'class':'_4rR01T'}\n",
    "}\n",
    "price = {\n",
    "    'tag': 'div',\n",
    "    'attrs':{'class':'_30jeq3 _1_WHN1'}\n",
    "}\n",
    "rating = {\n",
    "    'tag': 'div',\n",
    "    'attrs':{'class':'_3LWZlK'}\n",
    "}\n",
    "link = {\n",
    "    'tag': 'a',\n",
    "    'attrs':{'class':'_1fQZEK'},\n",
    "    'output':'href'\n",
    "}"
   ]
  },
  {
   "cell_type": "code",
   "execution_count": 4,
   "metadata": {},
   "outputs": [
    {
     "name": "stdout",
     "output_type": "stream",
     "text": [
      "26 items found\n",
      "Item skipped at index: 24\n",
      "Item skipped at index: 25\n",
      "All items extracted\n"
     ]
    }
   ],
   "source": [
    "out= extract_many(soup, target=target, items=items, title=title, price=price, rating=rating, link=link)"
   ]
  },
  {
   "cell_type": "code",
   "execution_count": 5,
   "metadata": {},
   "outputs": [
    {
     "name": "stdout",
     "output_type": "stream",
     "text": [
      "[{'title': 'SAMSUNG Galaxy F22 (Denim Blue, 64 GB)', 'price': '₹10,499', 'rating': '4.3', 'link': '/samsung-galaxy-f22-denim-blue-64-gb/p/itmce0a6baf0d54d?pid=MOBG43UGBTGGB99V&lid=LSTMOBG43UGBTGGB99VLZACSD&marketplace=FLIPKART&q=mobiles&store=tyy%2F4io&srno=s_1_1&otracker=search&otracker1=search&fm=organic&iid=64d517fd-e940-4d01-a74c-e8f1a9f070cc.MOBG43UGBTGGB99V.SEARCH&ppt=None&ppn=None&ssid=evojqcmodc0000001662641920863&qH=eb4af0bf07c16429'}, {'title': 'SAMSUNG Galaxy F22 (Denim Black, 64 GB)', 'price': '₹10,499', 'rating': '4.3', 'link': '/samsung-galaxy-f22-denim-black-64-gb/p/itm6f47a19cb79ae?pid=MOBG43UGC3PYCBZF&lid=LSTMOBG43UGC3PYCBZFSIRYTE&marketplace=FLIPKART&q=mobiles&store=tyy%2F4io&srno=s_1_2&otracker=search&otracker1=search&fm=organic&iid=64d517fd-e940-4d01-a74c-e8f1a9f070cc.MOBG43UGC3PYCBZF.SEARCH&ppt=None&ppn=None&ssid=evojqcmodc0000001662641920863&qH=eb4af0bf07c16429'}, {'title': 'SAMSUNG Galaxy F22 (Denim Blue, 128 GB)', 'price': '₹12,499', 'rating': '4.3', 'link': '/samsung-galaxy-f22-denim-blue-128-gb/p/itm30c755943bea0?pid=MOBG43UGRSMJXTMH&lid=LSTMOBG43UGRSMJXTMH8AUDHE&marketplace=FLIPKART&q=mobiles&store=tyy%2F4io&srno=s_1_3&otracker=search&otracker1=search&fm=organic&iid=64d517fd-e940-4d01-a74c-e8f1a9f070cc.MOBG43UGRSMJXTMH.SEARCH&ppt=None&ppn=None&ssid=evojqcmodc0000001662641920863&qH=eb4af0bf07c16429'}, {'title': 'Good One FLIP', 'price': '₹1,399', 'rating': '4.1', 'link': '/good-one-flip/p/itma3527071661c8?pid=MOBG9JA4P4ETFNDC&lid=LSTMOBG9JA4P4ETFNDCOK3TAB&marketplace=FLIPKART&q=mobiles&store=tyy%2F4io&srno=s_1_4&otracker=search&otracker1=search&fm=organic&iid=en_lyvOVGJZ5B1z%2Fg5KtBkkFhXjnTj5U7Z3B1qixrlKzXoiyCZ3kkRfE55OK7IdUdw6GtfYNEIFYess%2FosxKx1oOw%3D%3D&ppt=None&ppn=None&ssid=evojqcmodc0000001662641920863&qH=eb4af0bf07c16429'}, {'title': 'realme C31 (Light Silver, 32 GB)', 'price': '₹8,299', 'rating': '4.6', 'link': '/realme-c31-light-silver-32-gb/p/itme0f2960da9bbb?pid=MOBGCGVA3DANQNQH&lid=LSTMOBGCGVA3DANQNQHVUTE0C&marketplace=FLIPKART&q=mobiles&store=tyy%2F4io&srno=s_1_5&otracker=search&otracker1=search&fm=organic&iid=64d517fd-e940-4d01-a74c-e8f1a9f070cc.MOBGCGVA3DANQNQH.SEARCH&ppt=None&ppn=None&ssid=evojqcmodc0000001662641920863&qH=eb4af0bf07c16429'}, {'title': 'realme C31 (Dark Green, 32 GB)', 'price': '₹8,299', 'rating': '4.6', 'link': '/realme-c31-dark-green-32-gb/p/itme0f2960da9bbb?pid=MOBGCGVAXYT3EGYR&lid=LSTMOBGCGVAXYT3EGYRKW4CXL&marketplace=FLIPKART&q=mobiles&store=tyy%2F4io&srno=s_1_6&otracker=search&otracker1=search&fm=organic&iid=64d517fd-e940-4d01-a74c-e8f1a9f070cc.MOBGCGVAXYT3EGYR.SEARCH&ppt=None&ppn=None&ssid=evojqcmodc0000001662641920863&qH=eb4af0bf07c16429'}, {'title': 'Nokia 105 SS', 'price': '₹1,299', 'rating': '4.1', 'link': '/nokia-105-ss/p/itm9ac157d27f741?pid=MOBGC96FVTHVNXNH&lid=LSTMOBGC96FVTHVNXNHGPCV73&marketplace=FLIPKART&q=mobiles&store=tyy%2F4io&srno=s_1_7&otracker=search&otracker1=search&fm=organic&iid=64d517fd-e940-4d01-a74c-e8f1a9f070cc.MOBGC96FVTHVNXNH.SEARCH&ppt=None&ppn=None&ssid=evojqcmodc0000001662641920863&qH=eb4af0bf07c16429'}, {'title': 'IAIR D24', 'price': '₹1,099', 'rating': '3.8', 'link': '/iair-d24/p/itmebf306660cf33?pid=MOBG9PVPWCMXCPVF&lid=LSTMOBG9PVPWCMXCPVFMGVRSN&marketplace=FLIPKART&q=mobiles&store=tyy%2F4io&srno=s_1_8&otracker=search&otracker1=search&fm=organic&iid=en_lyvOVGJZ5B1z%2Fg5KtBkkFhXjnTj5U7Z3B1qixrlKzXrV1NgtC%2F0tGhBMepbSIx89Pfi2PtnMiHz08rsayz%2F7Fw%3D%3D&ppt=None&ppn=None&ssid=evojqcmodc0000001662641920863&qH=eb4af0bf07c16429'}, {'title': 'realme 9 (Sunburst Gold, 128 GB)', 'price': '₹14,499', 'rating': '4.4', 'link': '/realme-9-sunburst-gold-128-gb/p/itm73722a6d35d36?pid=MOBGDYSHHVWMECHS&lid=LSTMOBGDYSHHVWMECHSTFXBTZ&marketplace=FLIPKART&q=mobiles&store=tyy%2F4io&srno=s_1_9&otracker=search&otracker1=search&fm=organic&iid=64d517fd-e940-4d01-a74c-e8f1a9f070cc.MOBGDYSHHVWMECHS.SEARCH&ppt=None&ppn=None&ssid=evojqcmodc0000001662641920863&qH=eb4af0bf07c16429'}, {'title': 'realme C31 (Light Silver, 64 GB)', 'price': '₹9,499', 'rating': '4.4', 'link': '/realme-c31-light-silver-64-gb/p/itme0f2960da9bbb?pid=MOBGCGVAGUHQ9HNJ&lid=LSTMOBGCGVAGUHQ9HNJMCFWUX&marketplace=FLIPKART&q=mobiles&store=tyy%2F4io&srno=s_1_10&otracker=search&otracker1=search&fm=organic&iid=64d517fd-e940-4d01-a74c-e8f1a9f070cc.MOBGCGVAGUHQ9HNJ.SEARCH&ppt=None&ppn=None&ssid=evojqcmodc0000001662641920863&qH=eb4af0bf07c16429'}, {'title': 'IAIR D23', 'price': '₹1,097', 'rating': '4', 'link': '/iair-d23/p/itmfde8fc33dc954?pid=MOBGCNZNZVWYSDGH&lid=LSTMOBGCNZNZVWYSDGH98HP1Z&marketplace=FLIPKART&q=mobiles&store=tyy%2F4io&srno=s_1_11&otracker=search&otracker1=search&fm=organic&iid=en_lyvOVGJZ5B1z%2Fg5KtBkkFhXjnTj5U7Z3B1qixrlKzXr1WS%2BEYRfgx%2BiSYGbHV8E9n1%2FVpZOvmZlARc6%2FWge%2F8A%3D%3D&ppt=None&ppn=None&ssid=evojqcmodc0000001662641920863&qH=eb4af0bf07c16429'}, {'title': 'IAIR D40', 'price': '₹1,319', 'rating': '3.9', 'link': '/iair-d40/p/itm253472ba19c6b?pid=MOBGCNZF3VZHZJZR&lid=LSTMOBGCNZF3VZHZJZROV1MTC&marketplace=FLIPKART&q=mobiles&store=tyy%2F4io&srno=s_1_12&otracker=search&otracker1=search&fm=organic&iid=en_lyvOVGJZ5B1z%2Fg5KtBkkFhXjnTj5U7Z3B1qixrlKzXoMxQgb0ITBZnogQ%2FhziJ37xAZnM4WUT6omXT4VbN%2FcqQ%3D%3D&ppt=None&ppn=None&ssid=evojqcmodc0000001662641920863&qH=eb4af0bf07c16429'}, {'title': 'realme C31 (Dark Green, 64 GB)', 'price': '₹9,499', 'rating': '4.4', 'link': '/realme-c31-dark-green-64-gb/p/itme0f2960da9bbb?pid=MOBGCGVAZXRCZJNE&lid=LSTMOBGCGVAZXRCZJNENAINFL&marketplace=FLIPKART&q=mobiles&store=tyy%2F4io&srno=s_1_13&otracker=search&otracker1=search&fm=organic&iid=64d517fd-e940-4d01-a74c-e8f1a9f070cc.MOBGCGVAZXRCZJNE.SEARCH&ppt=None&ppn=None&ssid=evojqcmodc0000001662641920863&qH=eb4af0bf07c16429'}, {'title': 'realme 9 (Sunburst Gold, 128 GB)', 'price': '₹17,999', 'rating': '4.4', 'link': '/realme-9-sunburst-gold-128-gb/p/itm73722a6d35d36?pid=MOBGDYSH8EWQZ4XU&lid=LSTMOBGDYSH8EWQZ4XUTALWYH&marketplace=FLIPKART&q=mobiles&store=tyy%2F4io&srno=s_1_14&otracker=search&otracker1=search&fm=organic&iid=64d517fd-e940-4d01-a74c-e8f1a9f070cc.MOBGDYSH8EWQZ4XU.SEARCH&ppt=None&ppn=None&ssid=evojqcmodc0000001662641920863&qH=eb4af0bf07c16429'}, {'title': 'realme 9 5G (Supersonic Blue, 64 GB)', 'price': '₹15,999', 'rating': '4.5', 'link': '/realme-9-5g-supersonic-blue-64-gb/p/itm4f3814d50ff53?pid=MOBGDGZFXYZ4NFYM&lid=LSTMOBGDGZFXYZ4NFYMHOVCPY&marketplace=FLIPKART&q=mobiles&store=tyy%2F4io&srno=s_1_15&otracker=search&otracker1=search&fm=organic&iid=64d517fd-e940-4d01-a74c-e8f1a9f070cc.MOBGDGZFXYZ4NFYM.SEARCH&ppt=None&ppn=None&ssid=evojqcmodc0000001662641920863&qH=eb4af0bf07c16429'}, {'title': 'realme 9 5G (Meteor Black, 64 GB)', 'price': '₹15,999', 'rating': '4.5', 'link': '/realme-9-5g-meteor-black-64-gb/p/itm4f3814d50ff53?pid=MOBGC2Q5TGTGRBHR&lid=LSTMOBGC2Q5TGTGRBHRG6OMV4&marketplace=FLIPKART&q=mobiles&store=tyy%2F4io&srno=s_1_16&otracker=search&otracker1=search&fm=organic&iid=64d517fd-e940-4d01-a74c-e8f1a9f070cc.MOBGC2Q5TGTGRBHR.SEARCH&ppt=None&ppn=None&ssid=evojqcmodc0000001662641920863&qH=eb4af0bf07c16429'}, {'title': 'realme 9 (Stargaze White, 128 GB)', 'price': '₹14,499', 'rating': '4.4', 'link': '/realme-9-stargaze-white-128-gb/p/itm73722a6d35d36?pid=MOBGDYSHUGUDPEY4&lid=LSTMOBGDYSHUGUDPEY4MMBTA2&marketplace=FLIPKART&q=mobiles&store=tyy%2F4io&srno=s_1_17&otracker=search&otracker1=search&fm=organic&iid=64d517fd-e940-4d01-a74c-e8f1a9f070cc.MOBGDYSHUGUDPEY4.SEARCH&ppt=None&ppn=None&ssid=evojqcmodc0000001662641920863&qH=eb4af0bf07c16429'}, {'title': 'IAIR Basic Feature Dual Sim Mobile Phone with 2800mAh Battery, 1.77 inch Display Screen, 0.8 mp Camera...', 'price': '₹1,699', 'rating': '3.8', 'link': '/iair-basic-feature-dual-sim-mobile-phone-2800mah-battery-1-77-inch-display-screen-0-8-mp-camera-big-led-torch-fpd12-red/p/itmcc820fc776838?pid=MOBFVYMBDJM6YRZX&lid=LSTMOBFVYMBDJM6YRZX29FDZ7&marketplace=FLIPKART&q=mobiles&store=tyy%2F4io&srno=s_1_18&otracker=search&otracker1=search&fm=organic&iid=en_lyvOVGJZ5B1z%2Fg5KtBkkFhXjnTj5U7Z3B1qixrlKzXr7r8DmrHaYRgMWzJryBEhafPFKl1eHEHyhz3gruLH5vg%3D%3D&ppt=None&ppn=None&ssid=evojqcmodc0000001662641920863&qH=eb4af0bf07c16429'}, {'title': 'Realme C30 - Locked with Airtel Prepaid (Bamboo Green, 32 GB)', 'price': '₹6,199', 'rating': '4.4', 'link': '/realme-c30-locked-airtel-prepaid-bamboo-green-32-gb/p/itm938b2a52e171f?pid=MOBGFCFQXDH5NZGU&lid=LSTMOBGFCFQXDH5NZGUMBWKGV&marketplace=FLIPKART&q=mobiles&store=tyy%2F4io&srno=s_1_19&otracker=search&otracker1=search&fm=organic&iid=64d517fd-e940-4d01-a74c-e8f1a9f070cc.MOBGFCFQXDH5NZGU.SEARCH&ppt=None&ppn=None&ssid=evojqcmodc0000001662641920863&qH=eb4af0bf07c16429'}, {'title': 'realme C30 (Bamboo Green, 32 GB)', 'price': '₹6,799', 'rating': '4.4', 'link': '/realme-c30-bamboo-green-32-gb/p/itmfcf69b2db5059?pid=MOBGF37G7FRK8FBJ&lid=LSTMOBGF37G7FRK8FBJTETJBD&marketplace=FLIPKART&q=mobiles&store=tyy%2F4io&srno=s_1_20&otracker=search&otracker1=search&fm=organic&iid=64d517fd-e940-4d01-a74c-e8f1a9f070cc.MOBGF37G7FRK8FBJ.SEARCH&ppt=None&ppn=None&ssid=evojqcmodc0000001662641920863&qH=eb4af0bf07c16429'}, {'title': 'IAIR D41', 'price': '₹1,319', 'rating': '3.7', 'link': '/iair-d41/p/itm0b7495cebc66e?pid=MOBGCNZQMEYADXKH&lid=LSTMOBGCNZQMEYADXKHU6I8G1&marketplace=FLIPKART&q=mobiles&store=tyy%2F4io&srno=s_1_21&otracker=search&otracker1=search&fm=organic&iid=en_lyvOVGJZ5B1z%2Fg5KtBkkFhXjnTj5U7Z3B1qixrlKzXoUZWbtMgDnYn07hzawT5InX8nKkm%2BcgaKYPsZ6hfpBeg%3D%3D&ppt=None&ppn=None&ssid=evojqcmodc0000001662641920863&qH=eb4af0bf07c16429'}, {'title': 'IAIR D10', 'price': '₹1,072', 'rating': '4.2', 'link': '/iair-d10/p/itm68a13990b3f15?pid=MOBG7CMFC3KG9P3U&lid=LSTMOBG7CMFC3KG9P3UN9LTGZ&marketplace=FLIPKART&q=mobiles&store=tyy%2F4io&srno=s_1_22&otracker=search&otracker1=search&fm=organic&iid=en_lyvOVGJZ5B1z%2Fg5KtBkkFhXjnTj5U7Z3B1qixrlKzXqOWqY0N%2FCge9tm6ACLeOt6OHAT7cSatu0Ig7Xav%2BoiMA%3D%3D&ppt=None&ppn=None&ssid=evojqcmodc0000001662641920863&qH=eb4af0bf07c16429'}, {'title': 'realme C30 (Bamboo Green, 32 GB)', 'price': '₹7,999', 'rating': '4.1', 'link': '/realme-c30-bamboo-green-32-gb/p/itmfcf69b2db5059?pid=MOBGF37GUWGZQYGR&lid=LSTMOBGF37GUWGZQYGRW97HI6&marketplace=FLIPKART&q=mobiles&store=tyy%2F4io&srno=s_1_23&otracker=search&otracker1=search&fm=organic&iid=64d517fd-e940-4d01-a74c-e8f1a9f070cc.MOBGF37GUWGZQYGR.SEARCH&ppt=None&ppn=None&ssid=evojqcmodc0000001662641920863&qH=eb4af0bf07c16429'}, {'title': 'realme 9 5G (Supersonic Black, 64 GB)', 'price': '₹15,999', 'rating': '4.5', 'link': '/realme-9-5g-supersonic-black-64-gb/p/itm4f3814d50ff53?pid=MOBGDGZFCJH6R3HQ&lid=LSTMOBGDGZFCJH6R3HQONXRVH&marketplace=FLIPKART&q=mobiles&store=tyy%2F4io&srno=s_1_24&otracker=search&otracker1=search&fm=organic&iid=64d517fd-e940-4d01-a74c-e8f1a9f070cc.MOBGDGZFCJH6R3HQ.SEARCH&ppt=None&ppn=None&ssid=evojqcmodc0000001662641920863&qH=eb4af0bf07c16429'}]\n"
     ]
    }
   ],
   "source": [
    "print(out)"
   ]
  },
  {
   "cell_type": "code",
   "execution_count": 6,
   "metadata": {},
   "outputs": [
    {
     "name": "stdout",
     "output_type": "stream",
     "text": [
      "                                                title    price rating  \\\n",
      "0              SAMSUNG Galaxy F22 (Denim Blue, 64 GB)  ₹10,499    4.3   \n",
      "1             SAMSUNG Galaxy F22 (Denim Black, 64 GB)  ₹10,499    4.3   \n",
      "2             SAMSUNG Galaxy F22 (Denim Blue, 128 GB)  ₹12,499    4.3   \n",
      "3                                       Good One FLIP   ₹1,399    4.1   \n",
      "4                    realme C31 (Light Silver, 32 GB)   ₹8,299    4.6   \n",
      "5                      realme C31 (Dark Green, 32 GB)   ₹8,299    4.6   \n",
      "6                                        Nokia 105 SS   ₹1,299    4.1   \n",
      "7                                            IAIR D24   ₹1,099    3.8   \n",
      "8                    realme 9 (Sunburst Gold, 128 GB)  ₹14,499    4.4   \n",
      "9                    realme C31 (Light Silver, 64 GB)   ₹9,499    4.4   \n",
      "10                                           IAIR D23   ₹1,097      4   \n",
      "11                                           IAIR D40   ₹1,319    3.9   \n",
      "12                     realme C31 (Dark Green, 64 GB)   ₹9,499    4.4   \n",
      "13                   realme 9 (Sunburst Gold, 128 GB)  ₹17,999    4.4   \n",
      "14               realme 9 5G (Supersonic Blue, 64 GB)  ₹15,999    4.5   \n",
      "15                  realme 9 5G (Meteor Black, 64 GB)  ₹15,999    4.5   \n",
      "16                  realme 9 (Stargaze White, 128 GB)  ₹14,499    4.4   \n",
      "17  IAIR Basic Feature Dual Sim Mobile Phone with ...   ₹1,699    3.8   \n",
      "18  Realme C30 - Locked with Airtel Prepaid (Bambo...   ₹6,199    4.4   \n",
      "19                   realme C30 (Bamboo Green, 32 GB)   ₹6,799    4.4   \n",
      "20                                           IAIR D41   ₹1,319    3.7   \n",
      "21                                           IAIR D10   ₹1,072    4.2   \n",
      "22                   realme C30 (Bamboo Green, 32 GB)   ₹7,999    4.1   \n",
      "23              realme 9 5G (Supersonic Black, 64 GB)  ₹15,999    4.5   \n",
      "\n",
      "                                                 link  \n",
      "0   /samsung-galaxy-f22-denim-blue-64-gb/p/itmce0a...  \n",
      "1   /samsung-galaxy-f22-denim-black-64-gb/p/itm6f4...  \n",
      "2   /samsung-galaxy-f22-denim-blue-128-gb/p/itm30c...  \n",
      "3   /good-one-flip/p/itma3527071661c8?pid=MOBG9JA4...  \n",
      "4   /realme-c31-light-silver-32-gb/p/itme0f2960da9...  \n",
      "5   /realme-c31-dark-green-32-gb/p/itme0f2960da9bb...  \n",
      "6   /nokia-105-ss/p/itm9ac157d27f741?pid=MOBGC96FV...  \n",
      "7   /iair-d24/p/itmebf306660cf33?pid=MOBG9PVPWCMXC...  \n",
      "8   /realme-9-sunburst-gold-128-gb/p/itm73722a6d35...  \n",
      "9   /realme-c31-light-silver-64-gb/p/itme0f2960da9...  \n",
      "10  /iair-d23/p/itmfde8fc33dc954?pid=MOBGCNZNZVWYS...  \n",
      "11  /iair-d40/p/itm253472ba19c6b?pid=MOBGCNZF3VZHZ...  \n",
      "12  /realme-c31-dark-green-64-gb/p/itme0f2960da9bb...  \n",
      "13  /realme-9-sunburst-gold-128-gb/p/itm73722a6d35...  \n",
      "14  /realme-9-5g-supersonic-blue-64-gb/p/itm4f3814...  \n",
      "15  /realme-9-5g-meteor-black-64-gb/p/itm4f3814d50...  \n",
      "16  /realme-9-stargaze-white-128-gb/p/itm73722a6d3...  \n",
      "17  /iair-basic-feature-dual-sim-mobile-phone-2800...  \n",
      "18  /realme-c30-locked-airtel-prepaid-bamboo-green...  \n",
      "19  /realme-c30-bamboo-green-32-gb/p/itmfcf69b2db5...  \n",
      "20  /iair-d41/p/itm0b7495cebc66e?pid=MOBGCNZQMEYAD...  \n",
      "21  /iair-d10/p/itm68a13990b3f15?pid=MOBG7CMFC3KG9...  \n",
      "22  /realme-c30-bamboo-green-32-gb/p/itmfcf69b2db5...  \n",
      "23  /realme-9-5g-supersonic-black-64-gb/p/itm4f381...  \n"
     ]
    }
   ],
   "source": [
    "import pandas as pd\n",
    "df = pd.DataFrame(out)\n",
    "print(df)"
   ]
  }
 ],
 "metadata": {
  "kernelspec": {
   "display_name": "Python 3.9.13 ('base')",
   "language": "python",
   "name": "python3"
  },
  "language_info": {
   "codemirror_mode": {
    "name": "ipython",
    "version": 3
   },
   "file_extension": ".py",
   "mimetype": "text/x-python",
   "name": "python",
   "nbconvert_exporter": "python",
   "pygments_lexer": "ipython3",
   "version": "3.9.13"
  },
  "orig_nbformat": 4,
  "vscode": {
   "interpreter": {
    "hash": "79d71d161e7943240a345005223b4b57f09b9732a24e4917a9c0467b3aef16ea"
   }
  }
 },
 "nbformat": 4,
 "nbformat_minor": 2
}
